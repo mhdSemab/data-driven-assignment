{
 "cells": [
  {
   "cell_type": "markdown",
   "metadata": {
    "id": "T5PuoTGxM25j"
   },
   "source": [
    "# Hotel Booking Cancallation Prediction"
   ]
  },
  {
   "cell_type": "markdown",
   "metadata": {
    "id": "0Q8SI3lyNoHH"
   },
   "source": [
    "**Load Data**\n",
    "\n",
    "Load Hotel_Booking/hotel_bookings.csv file provided on Brightspace."
   ]
  },
  {
   "cell_type": "code",
   "execution_count": 1,
   "metadata": {
    "id": "fdv3RPXnOfvf"
   },
   "outputs": [],
   "source": [
    "# <<< Your code here >>>\n",
    "import pandas as pd #importing the necessary libraries"
   ]
  },
  {
   "cell_type": "code",
   "execution_count": 2,
   "metadata": {},
   "outputs": [],
   "source": [
    "hotel_df = pd.read_csv('./hotel_bookings.csv') #loading the data as a dataframe"
   ]
  },
  {
   "cell_type": "code",
   "execution_count": 3,
   "metadata": {},
   "outputs": [
    {
     "data": {
      "text/html": [
       "<div>\n",
       "<style scoped>\n",
       "    .dataframe tbody tr th:only-of-type {\n",
       "        vertical-align: middle;\n",
       "    }\n",
       "\n",
       "    .dataframe tbody tr th {\n",
       "        vertical-align: top;\n",
       "    }\n",
       "\n",
       "    .dataframe thead th {\n",
       "        text-align: right;\n",
       "    }\n",
       "</style>\n",
       "<table border=\"1\" class=\"dataframe\">\n",
       "  <thead>\n",
       "    <tr style=\"text-align: right;\">\n",
       "      <th></th>\n",
       "      <th>hotel</th>\n",
       "      <th>is_canceled</th>\n",
       "      <th>lead_time</th>\n",
       "      <th>arrival_date_year</th>\n",
       "      <th>arrival_date_month</th>\n",
       "      <th>arrival_date_week_number</th>\n",
       "      <th>arrival_date_day_of_month</th>\n",
       "      <th>stays_in_weekend_nights</th>\n",
       "      <th>stays_in_week_nights</th>\n",
       "      <th>adults</th>\n",
       "      <th>...</th>\n",
       "      <th>deposit_type</th>\n",
       "      <th>agent</th>\n",
       "      <th>company</th>\n",
       "      <th>days_in_waiting_list</th>\n",
       "      <th>customer_type</th>\n",
       "      <th>adr</th>\n",
       "      <th>required_car_parking_spaces</th>\n",
       "      <th>total_of_special_requests</th>\n",
       "      <th>reservation_status</th>\n",
       "      <th>reservation_status_date</th>\n",
       "    </tr>\n",
       "  </thead>\n",
       "  <tbody>\n",
       "    <tr>\n",
       "      <th>0</th>\n",
       "      <td>Resort Hotel</td>\n",
       "      <td>0</td>\n",
       "      <td>342</td>\n",
       "      <td>2015</td>\n",
       "      <td>July</td>\n",
       "      <td>27</td>\n",
       "      <td>1</td>\n",
       "      <td>0</td>\n",
       "      <td>0</td>\n",
       "      <td>2</td>\n",
       "      <td>...</td>\n",
       "      <td>No Deposit</td>\n",
       "      <td>NaN</td>\n",
       "      <td>NaN</td>\n",
       "      <td>0</td>\n",
       "      <td>Transient</td>\n",
       "      <td>0.0</td>\n",
       "      <td>0</td>\n",
       "      <td>0</td>\n",
       "      <td>Check-Out</td>\n",
       "      <td>2015-07-01</td>\n",
       "    </tr>\n",
       "    <tr>\n",
       "      <th>1</th>\n",
       "      <td>Resort Hotel</td>\n",
       "      <td>0</td>\n",
       "      <td>737</td>\n",
       "      <td>2015</td>\n",
       "      <td>July</td>\n",
       "      <td>27</td>\n",
       "      <td>1</td>\n",
       "      <td>0</td>\n",
       "      <td>0</td>\n",
       "      <td>2</td>\n",
       "      <td>...</td>\n",
       "      <td>No Deposit</td>\n",
       "      <td>NaN</td>\n",
       "      <td>NaN</td>\n",
       "      <td>0</td>\n",
       "      <td>Transient</td>\n",
       "      <td>0.0</td>\n",
       "      <td>0</td>\n",
       "      <td>0</td>\n",
       "      <td>Check-Out</td>\n",
       "      <td>2015-07-01</td>\n",
       "    </tr>\n",
       "    <tr>\n",
       "      <th>2</th>\n",
       "      <td>Resort Hotel</td>\n",
       "      <td>0</td>\n",
       "      <td>7</td>\n",
       "      <td>2015</td>\n",
       "      <td>July</td>\n",
       "      <td>27</td>\n",
       "      <td>1</td>\n",
       "      <td>0</td>\n",
       "      <td>1</td>\n",
       "      <td>1</td>\n",
       "      <td>...</td>\n",
       "      <td>No Deposit</td>\n",
       "      <td>NaN</td>\n",
       "      <td>NaN</td>\n",
       "      <td>0</td>\n",
       "      <td>Transient</td>\n",
       "      <td>75.0</td>\n",
       "      <td>0</td>\n",
       "      <td>0</td>\n",
       "      <td>Check-Out</td>\n",
       "      <td>2015-07-02</td>\n",
       "    </tr>\n",
       "    <tr>\n",
       "      <th>3</th>\n",
       "      <td>Resort Hotel</td>\n",
       "      <td>0</td>\n",
       "      <td>13</td>\n",
       "      <td>2015</td>\n",
       "      <td>July</td>\n",
       "      <td>27</td>\n",
       "      <td>1</td>\n",
       "      <td>0</td>\n",
       "      <td>1</td>\n",
       "      <td>1</td>\n",
       "      <td>...</td>\n",
       "      <td>No Deposit</td>\n",
       "      <td>304.0</td>\n",
       "      <td>NaN</td>\n",
       "      <td>0</td>\n",
       "      <td>Transient</td>\n",
       "      <td>75.0</td>\n",
       "      <td>0</td>\n",
       "      <td>0</td>\n",
       "      <td>Check-Out</td>\n",
       "      <td>2015-07-02</td>\n",
       "    </tr>\n",
       "    <tr>\n",
       "      <th>4</th>\n",
       "      <td>Resort Hotel</td>\n",
       "      <td>0</td>\n",
       "      <td>14</td>\n",
       "      <td>2015</td>\n",
       "      <td>July</td>\n",
       "      <td>27</td>\n",
       "      <td>1</td>\n",
       "      <td>0</td>\n",
       "      <td>2</td>\n",
       "      <td>2</td>\n",
       "      <td>...</td>\n",
       "      <td>No Deposit</td>\n",
       "      <td>240.0</td>\n",
       "      <td>NaN</td>\n",
       "      <td>0</td>\n",
       "      <td>Transient</td>\n",
       "      <td>98.0</td>\n",
       "      <td>0</td>\n",
       "      <td>1</td>\n",
       "      <td>Check-Out</td>\n",
       "      <td>2015-07-03</td>\n",
       "    </tr>\n",
       "  </tbody>\n",
       "</table>\n",
       "<p>5 rows × 32 columns</p>\n",
       "</div>"
      ],
      "text/plain": [
       "          hotel  is_canceled  lead_time  arrival_date_year arrival_date_month  \\\n",
       "0  Resort Hotel            0        342               2015               July   \n",
       "1  Resort Hotel            0        737               2015               July   \n",
       "2  Resort Hotel            0          7               2015               July   \n",
       "3  Resort Hotel            0         13               2015               July   \n",
       "4  Resort Hotel            0         14               2015               July   \n",
       "\n",
       "   arrival_date_week_number  arrival_date_day_of_month  \\\n",
       "0                        27                          1   \n",
       "1                        27                          1   \n",
       "2                        27                          1   \n",
       "3                        27                          1   \n",
       "4                        27                          1   \n",
       "\n",
       "   stays_in_weekend_nights  stays_in_week_nights  adults  ...  deposit_type  \\\n",
       "0                        0                     0       2  ...    No Deposit   \n",
       "1                        0                     0       2  ...    No Deposit   \n",
       "2                        0                     1       1  ...    No Deposit   \n",
       "3                        0                     1       1  ...    No Deposit   \n",
       "4                        0                     2       2  ...    No Deposit   \n",
       "\n",
       "   agent company days_in_waiting_list customer_type   adr  \\\n",
       "0    NaN     NaN                    0     Transient   0.0   \n",
       "1    NaN     NaN                    0     Transient   0.0   \n",
       "2    NaN     NaN                    0     Transient  75.0   \n",
       "3  304.0     NaN                    0     Transient  75.0   \n",
       "4  240.0     NaN                    0     Transient  98.0   \n",
       "\n",
       "   required_car_parking_spaces  total_of_special_requests  reservation_status  \\\n",
       "0                            0                          0           Check-Out   \n",
       "1                            0                          0           Check-Out   \n",
       "2                            0                          0           Check-Out   \n",
       "3                            0                          0           Check-Out   \n",
       "4                            0                          1           Check-Out   \n",
       "\n",
       "  reservation_status_date  \n",
       "0              2015-07-01  \n",
       "1              2015-07-01  \n",
       "2              2015-07-02  \n",
       "3              2015-07-02  \n",
       "4              2015-07-03  \n",
       "\n",
       "[5 rows x 32 columns]"
      ]
     },
     "execution_count": 3,
     "metadata": {},
     "output_type": "execute_result"
    }
   ],
   "source": [
    "hotel_df.head() #a quick check to see dataframe loaded properly"
   ]
  },
  {
   "cell_type": "markdown",
   "metadata": {
    "id": "NauE96owM3sR"
   },
   "source": [
    "# 1. Data Pre-processing (25%)\n",
    "\n",
    "\n",
    "---\n",
    "\n",
    "\n",
    "\n",
    "\n"
   ]
  },
  {
   "cell_type": "markdown",
   "metadata": {
    "id": "HZLqyiLUOnrV"
   },
   "source": [
    "**Drop irrelevant columns**\n",
    "\n",
    "It will significantly reduce the time and effort you need to invest. As a general guideline, columns containing IDs, dates, or irrelevant information are typically considered redundant and offer little value for predictive analysis."
   ]
  },
  {
   "cell_type": "code",
   "execution_count": 22,
   "metadata": {
    "id": "GSWv5wCDQyBM"
   },
   "outputs": [
    {
     "name": "stdout",
     "output_type": "stream",
     "text": [
      "                                is_canceled  lead_time  arrival_date_year  \\\n",
      "is_canceled                        1.000000   0.293123           0.016660   \n",
      "lead_time                          0.293123   1.000000           0.040142   \n",
      "arrival_date_year                  0.016660   0.040142           1.000000   \n",
      "arrival_date_week_number           0.008148   0.126871          -0.540561   \n",
      "arrival_date_day_of_month         -0.006130   0.002268          -0.000221   \n",
      "stays_in_weekend_nights           -0.001791   0.085671           0.021497   \n",
      "stays_in_week_nights               0.024765   0.165799           0.030883   \n",
      "adults                             0.060017   0.119519           0.029635   \n",
      "children                           0.005048  -0.037622           0.054624   \n",
      "babies                            -0.032491  -0.020915          -0.013192   \n",
      "is_repeated_guest                 -0.084793  -0.124410           0.010341   \n",
      "previous_cancellations             0.110133   0.086042          -0.119822   \n",
      "previous_bookings_not_canceled    -0.057358  -0.073548           0.029218   \n",
      "booking_changes                   -0.144381   0.000149           0.030872   \n",
      "agent                             -0.083114  -0.069741           0.063457   \n",
      "company                           -0.020642   0.151464           0.259095   \n",
      "days_in_waiting_list               0.054186   0.170084          -0.056497   \n",
      "adr                                0.047557  -0.063077           0.197580   \n",
      "required_car_parking_spaces       -0.195498  -0.116451          -0.013684   \n",
      "total_of_special_requests         -0.234658  -0.095712           0.108531   \n",
      "\n",
      "                                arrival_date_week_number  \\\n",
      "is_canceled                                     0.008148   \n",
      "lead_time                                       0.126871   \n",
      "arrival_date_year                              -0.540561   \n",
      "arrival_date_week_number                        1.000000   \n",
      "arrival_date_day_of_month                       0.066809   \n",
      "stays_in_weekend_nights                         0.018208   \n",
      "stays_in_week_nights                            0.015558   \n",
      "adults                                          0.025909   \n",
      "children                                        0.005518   \n",
      "babies                                          0.010395   \n",
      "is_repeated_guest                              -0.030131   \n",
      "previous_cancellations                          0.035501   \n",
      "previous_bookings_not_canceled                 -0.020904   \n",
      "booking_changes                                 0.005508   \n",
      "agent                                          -0.031201   \n",
      "company                                        -0.076760   \n",
      "days_in_waiting_list                            0.022933   \n",
      "adr                                             0.075791   \n",
      "required_car_parking_spaces                     0.001920   \n",
      "total_of_special_requests                       0.026149   \n",
      "\n",
      "                                arrival_date_day_of_month  \\\n",
      "is_canceled                                     -0.006130   \n",
      "lead_time                                        0.002268   \n",
      "arrival_date_year                               -0.000221   \n",
      "arrival_date_week_number                         0.066809   \n",
      "arrival_date_day_of_month                        1.000000   \n",
      "stays_in_weekend_nights                         -0.016354   \n",
      "stays_in_week_nights                            -0.028174   \n",
      "adults                                          -0.001566   \n",
      "children                                         0.014544   \n",
      "babies                                          -0.000230   \n",
      "is_repeated_guest                               -0.006145   \n",
      "previous_cancellations                          -0.027011   \n",
      "previous_bookings_not_canceled                  -0.000300   \n",
      "booking_changes                                  0.010613   \n",
      "agent                                            0.001487   \n",
      "company                                          0.044858   \n",
      "days_in_waiting_list                             0.022728   \n",
      "adr                                              0.030245   \n",
      "required_car_parking_spaces                      0.008683   \n",
      "total_of_special_requests                        0.003062   \n",
      "\n",
      "                                stays_in_weekend_nights  stays_in_week_nights  \\\n",
      "is_canceled                                   -0.001791              0.024765   \n",
      "lead_time                                      0.085671              0.165799   \n",
      "arrival_date_year                              0.021497              0.030883   \n",
      "arrival_date_week_number                       0.018208              0.015558   \n",
      "arrival_date_day_of_month                     -0.016354             -0.028174   \n",
      "stays_in_weekend_nights                        1.000000              0.498969   \n",
      "stays_in_week_nights                           0.498969              1.000000   \n",
      "adults                                         0.091871              0.092976   \n",
      "children                                       0.045793              0.044203   \n",
      "babies                                         0.018483              0.020191   \n",
      "is_repeated_guest                             -0.087239             -0.097245   \n",
      "previous_cancellations                        -0.012775             -0.013992   \n",
      "previous_bookings_not_canceled                -0.042715             -0.048743   \n",
      "booking_changes                                0.063281              0.096209   \n",
      "agent                                          0.140739              0.182382   \n",
      "company                                        0.066749              0.182211   \n",
      "days_in_waiting_list                          -0.054151             -0.002020   \n",
      "adr                                            0.049342              0.065237   \n",
      "required_car_parking_spaces                   -0.018554             -0.024859   \n",
      "total_of_special_requests                      0.072671              0.068192   \n",
      "\n",
      "                                  adults  children    babies  \\\n",
      "is_canceled                     0.060017  0.005048 -0.032491   \n",
      "lead_time                       0.119519 -0.037622 -0.020915   \n",
      "arrival_date_year               0.029635  0.054624 -0.013192   \n",
      "arrival_date_week_number        0.025909  0.005518  0.010395   \n",
      "arrival_date_day_of_month      -0.001566  0.014544 -0.000230   \n",
      "stays_in_weekend_nights         0.091871  0.045793  0.018483   \n",
      "stays_in_week_nights            0.092976  0.044203  0.020191   \n",
      "adults                          1.000000  0.030447  0.018146   \n",
      "children                        0.030447  1.000000  0.024030   \n",
      "babies                          0.018146  0.024030  1.000000   \n",
      "is_repeated_guest              -0.146426 -0.032859 -0.008943   \n",
      "previous_cancellations         -0.006738 -0.024730 -0.007501   \n",
      "previous_bookings_not_canceled -0.107983 -0.021072 -0.006550   \n",
      "booking_changes                -0.051673  0.048949  0.083440   \n",
      "agent                          -0.035594  0.041066  0.036184   \n",
      "company                         0.207793  0.030931  0.019206   \n",
      "days_in_waiting_list           -0.008283 -0.033273 -0.010621   \n",
      "adr                             0.230641  0.324854  0.029186   \n",
      "required_car_parking_spaces     0.014785  0.056253  0.037383   \n",
      "total_of_special_requests       0.122884  0.081745  0.097889   \n",
      "\n",
      "                                is_repeated_guest  previous_cancellations  \\\n",
      "is_canceled                             -0.084793                0.110133   \n",
      "lead_time                               -0.124410                0.086042   \n",
      "arrival_date_year                        0.010341               -0.119822   \n",
      "arrival_date_week_number                -0.030131                0.035501   \n",
      "arrival_date_day_of_month               -0.006145               -0.027011   \n",
      "stays_in_weekend_nights                 -0.087239               -0.012775   \n",
      "stays_in_week_nights                    -0.097245               -0.013992   \n",
      "adults                                  -0.146426               -0.006738   \n",
      "children                                -0.032859               -0.024730   \n",
      "babies                                  -0.008943               -0.007501   \n",
      "is_repeated_guest                        1.000000                0.082293   \n",
      "previous_cancellations                   0.082293                1.000000   \n",
      "previous_bookings_not_canceled           0.418056                0.152728   \n",
      "booking_changes                          0.012092               -0.026993   \n",
      "agent                                    0.031527               -0.012488   \n",
      "company                                 -0.244586               -0.184574   \n",
      "days_in_waiting_list                    -0.022235                0.005929   \n",
      "adr                                     -0.134314               -0.065646   \n",
      "required_car_parking_spaces              0.077090               -0.018492   \n",
      "total_of_special_requests                0.013050               -0.048384   \n",
      "\n",
      "                                previous_bookings_not_canceled  \\\n",
      "is_canceled                                          -0.057358   \n",
      "lead_time                                            -0.073548   \n",
      "arrival_date_year                                     0.029218   \n",
      "arrival_date_week_number                             -0.020904   \n",
      "arrival_date_day_of_month                            -0.000300   \n",
      "stays_in_weekend_nights                              -0.042715   \n",
      "stays_in_week_nights                                 -0.048743   \n",
      "adults                                               -0.107983   \n",
      "children                                             -0.021072   \n",
      "babies                                               -0.006550   \n",
      "is_repeated_guest                                     0.418056   \n",
      "previous_cancellations                                0.152728   \n",
      "previous_bookings_not_canceled                        1.000000   \n",
      "booking_changes                                       0.011608   \n",
      "agent                                                 0.023252   \n",
      "company                                              -0.208557   \n",
      "days_in_waiting_list                                 -0.009397   \n",
      "adr                                                  -0.072144   \n",
      "required_car_parking_spaces                           0.047653   \n",
      "total_of_special_requests                             0.037824   \n",
      "\n",
      "                                booking_changes     agent   company  \\\n",
      "is_canceled                           -0.144381 -0.083114 -0.020642   \n",
      "lead_time                              0.000149 -0.069741  0.151464   \n",
      "arrival_date_year                      0.030872  0.063457  0.259095   \n",
      "arrival_date_week_number               0.005508 -0.031201 -0.076760   \n",
      "arrival_date_day_of_month              0.010613  0.001487  0.044858   \n",
      "stays_in_weekend_nights                0.063281  0.140739  0.066749   \n",
      "stays_in_week_nights                   0.096209  0.182382  0.182211   \n",
      "adults                                -0.051673 -0.035594  0.207793   \n",
      "children                               0.048949  0.041066  0.030931   \n",
      "babies                                 0.083440  0.036184  0.019206   \n",
      "is_repeated_guest                      0.012092  0.031527 -0.244586   \n",
      "previous_cancellations                -0.026993 -0.012488 -0.184574   \n",
      "previous_bookings_not_canceled         0.011608  0.023252 -0.208557   \n",
      "booking_changes                        1.000000  0.067010  0.122098   \n",
      "agent                                  0.067010  1.000000  0.350746   \n",
      "company                                0.122098  0.350746  1.000000   \n",
      "days_in_waiting_list                  -0.011634 -0.055151  0.000411   \n",
      "adr                                    0.019618 -0.024695  0.086376   \n",
      "required_car_parking_spaces            0.065620  0.177353 -0.012916   \n",
      "total_of_special_requests              0.052833  0.034162 -0.098558   \n",
      "\n",
      "                                days_in_waiting_list       adr  \\\n",
      "is_canceled                                 0.054186  0.047557   \n",
      "lead_time                                   0.170084 -0.063077   \n",
      "arrival_date_year                          -0.056497  0.197580   \n",
      "arrival_date_week_number                    0.022933  0.075791   \n",
      "arrival_date_day_of_month                   0.022728  0.030245   \n",
      "stays_in_weekend_nights                    -0.054151  0.049342   \n",
      "stays_in_week_nights                       -0.002020  0.065237   \n",
      "adults                                     -0.008283  0.230641   \n",
      "children                                   -0.033273  0.324854   \n",
      "babies                                     -0.010621  0.029186   \n",
      "is_repeated_guest                          -0.022235 -0.134314   \n",
      "previous_cancellations                      0.005929 -0.065646   \n",
      "previous_bookings_not_canceled             -0.009397 -0.072144   \n",
      "booking_changes                            -0.011634  0.019618   \n",
      "agent                                      -0.055151 -0.024695   \n",
      "company                                     0.000411  0.086376   \n",
      "days_in_waiting_list                        1.000000 -0.040756   \n",
      "adr                                        -0.040756  1.000000   \n",
      "required_car_parking_spaces                -0.030600  0.056628   \n",
      "total_of_special_requests                  -0.082730  0.172185   \n",
      "\n",
      "                                required_car_parking_spaces  \\\n",
      "is_canceled                                       -0.195498   \n",
      "lead_time                                         -0.116451   \n",
      "arrival_date_year                                 -0.013684   \n",
      "arrival_date_week_number                           0.001920   \n",
      "arrival_date_day_of_month                          0.008683   \n",
      "stays_in_weekend_nights                           -0.018554   \n",
      "stays_in_week_nights                              -0.024859   \n",
      "adults                                             0.014785   \n",
      "children                                           0.056253   \n",
      "babies                                             0.037383   \n",
      "is_repeated_guest                                  0.077090   \n",
      "previous_cancellations                            -0.018492   \n",
      "previous_bookings_not_canceled                     0.047653   \n",
      "booking_changes                                    0.065620   \n",
      "agent                                              0.177353   \n",
      "company                                           -0.012916   \n",
      "days_in_waiting_list                              -0.030600   \n",
      "adr                                                0.056628   \n",
      "required_car_parking_spaces                        1.000000   \n",
      "total_of_special_requests                          0.082626   \n",
      "\n",
      "                                total_of_special_requests  \n",
      "is_canceled                                     -0.234658  \n",
      "lead_time                                       -0.095712  \n",
      "arrival_date_year                                0.108531  \n",
      "arrival_date_week_number                         0.026149  \n",
      "arrival_date_day_of_month                        0.003062  \n",
      "stays_in_weekend_nights                          0.072671  \n",
      "stays_in_week_nights                             0.068192  \n",
      "adults                                           0.122884  \n",
      "children                                         0.081745  \n",
      "babies                                           0.097889  \n",
      "is_repeated_guest                                0.013050  \n",
      "previous_cancellations                          -0.048384  \n",
      "previous_bookings_not_canceled                   0.037824  \n",
      "booking_changes                                  0.052833  \n",
      "agent                                            0.034162  \n",
      "company                                         -0.098558  \n",
      "days_in_waiting_list                            -0.082730  \n",
      "adr                                              0.172185  \n",
      "required_car_parking_spaces                      0.082626  \n",
      "total_of_special_requests                        1.000000  \n"
     ]
    }
   ],
   "source": [
    "# <<< Your code here >>>\n",
    "# correlation analysis\n",
    "correlation_matrix = hotel_df.corr()\n",
    "print(correlation_matrix)"
   ]
  },
  {
   "cell_type": "markdown",
   "metadata": {},
   "source": [
    "Considering all the correlations of different columns with is_cancelled, i decided to remove the following irrelevant columns."
   ]
  },
  {
   "cell_type": "code",
   "execution_count": 23,
   "metadata": {},
   "outputs": [
    {
     "data": {
      "text/html": [
       "<div>\n",
       "<style scoped>\n",
       "    .dataframe tbody tr th:only-of-type {\n",
       "        vertical-align: middle;\n",
       "    }\n",
       "\n",
       "    .dataframe tbody tr th {\n",
       "        vertical-align: top;\n",
       "    }\n",
       "\n",
       "    .dataframe thead th {\n",
       "        text-align: right;\n",
       "    }\n",
       "</style>\n",
       "<table border=\"1\" class=\"dataframe\">\n",
       "  <thead>\n",
       "    <tr style=\"text-align: right;\">\n",
       "      <th></th>\n",
       "      <th>hotel</th>\n",
       "      <th>is_canceled</th>\n",
       "      <th>lead_time</th>\n",
       "      <th>arrival_date_month</th>\n",
       "      <th>stays_in_weekend_nights</th>\n",
       "      <th>stays_in_week_nights</th>\n",
       "      <th>adults</th>\n",
       "      <th>children</th>\n",
       "      <th>babies</th>\n",
       "      <th>meal</th>\n",
       "      <th>...</th>\n",
       "      <th>previous_bookings_not_canceled</th>\n",
       "      <th>reserved_room_type</th>\n",
       "      <th>assigned_room_type</th>\n",
       "      <th>booking_changes</th>\n",
       "      <th>deposit_type</th>\n",
       "      <th>customer_type</th>\n",
       "      <th>adr</th>\n",
       "      <th>total_of_special_requests</th>\n",
       "      <th>reservation_status</th>\n",
       "      <th>reservation_status_date</th>\n",
       "    </tr>\n",
       "  </thead>\n",
       "  <tbody>\n",
       "    <tr>\n",
       "      <th>0</th>\n",
       "      <td>Resort Hotel</td>\n",
       "      <td>0</td>\n",
       "      <td>342</td>\n",
       "      <td>July</td>\n",
       "      <td>0</td>\n",
       "      <td>0</td>\n",
       "      <td>2</td>\n",
       "      <td>0.0</td>\n",
       "      <td>0</td>\n",
       "      <td>BB</td>\n",
       "      <td>...</td>\n",
       "      <td>0</td>\n",
       "      <td>C</td>\n",
       "      <td>C</td>\n",
       "      <td>3</td>\n",
       "      <td>No Deposit</td>\n",
       "      <td>Transient</td>\n",
       "      <td>0.0</td>\n",
       "      <td>0</td>\n",
       "      <td>Check-Out</td>\n",
       "      <td>2015-07-01</td>\n",
       "    </tr>\n",
       "    <tr>\n",
       "      <th>1</th>\n",
       "      <td>Resort Hotel</td>\n",
       "      <td>0</td>\n",
       "      <td>737</td>\n",
       "      <td>July</td>\n",
       "      <td>0</td>\n",
       "      <td>0</td>\n",
       "      <td>2</td>\n",
       "      <td>0.0</td>\n",
       "      <td>0</td>\n",
       "      <td>BB</td>\n",
       "      <td>...</td>\n",
       "      <td>0</td>\n",
       "      <td>C</td>\n",
       "      <td>C</td>\n",
       "      <td>4</td>\n",
       "      <td>No Deposit</td>\n",
       "      <td>Transient</td>\n",
       "      <td>0.0</td>\n",
       "      <td>0</td>\n",
       "      <td>Check-Out</td>\n",
       "      <td>2015-07-01</td>\n",
       "    </tr>\n",
       "    <tr>\n",
       "      <th>2</th>\n",
       "      <td>Resort Hotel</td>\n",
       "      <td>0</td>\n",
       "      <td>7</td>\n",
       "      <td>July</td>\n",
       "      <td>0</td>\n",
       "      <td>1</td>\n",
       "      <td>1</td>\n",
       "      <td>0.0</td>\n",
       "      <td>0</td>\n",
       "      <td>BB</td>\n",
       "      <td>...</td>\n",
       "      <td>0</td>\n",
       "      <td>A</td>\n",
       "      <td>C</td>\n",
       "      <td>0</td>\n",
       "      <td>No Deposit</td>\n",
       "      <td>Transient</td>\n",
       "      <td>75.0</td>\n",
       "      <td>0</td>\n",
       "      <td>Check-Out</td>\n",
       "      <td>2015-07-02</td>\n",
       "    </tr>\n",
       "    <tr>\n",
       "      <th>3</th>\n",
       "      <td>Resort Hotel</td>\n",
       "      <td>0</td>\n",
       "      <td>13</td>\n",
       "      <td>July</td>\n",
       "      <td>0</td>\n",
       "      <td>1</td>\n",
       "      <td>1</td>\n",
       "      <td>0.0</td>\n",
       "      <td>0</td>\n",
       "      <td>BB</td>\n",
       "      <td>...</td>\n",
       "      <td>0</td>\n",
       "      <td>A</td>\n",
       "      <td>A</td>\n",
       "      <td>0</td>\n",
       "      <td>No Deposit</td>\n",
       "      <td>Transient</td>\n",
       "      <td>75.0</td>\n",
       "      <td>0</td>\n",
       "      <td>Check-Out</td>\n",
       "      <td>2015-07-02</td>\n",
       "    </tr>\n",
       "    <tr>\n",
       "      <th>4</th>\n",
       "      <td>Resort Hotel</td>\n",
       "      <td>0</td>\n",
       "      <td>14</td>\n",
       "      <td>July</td>\n",
       "      <td>0</td>\n",
       "      <td>2</td>\n",
       "      <td>2</td>\n",
       "      <td>0.0</td>\n",
       "      <td>0</td>\n",
       "      <td>BB</td>\n",
       "      <td>...</td>\n",
       "      <td>0</td>\n",
       "      <td>A</td>\n",
       "      <td>A</td>\n",
       "      <td>0</td>\n",
       "      <td>No Deposit</td>\n",
       "      <td>Transient</td>\n",
       "      <td>98.0</td>\n",
       "      <td>1</td>\n",
       "      <td>Check-Out</td>\n",
       "      <td>2015-07-03</td>\n",
       "    </tr>\n",
       "  </tbody>\n",
       "</table>\n",
       "<p>5 rows × 25 columns</p>\n",
       "</div>"
      ],
      "text/plain": [
       "          hotel  is_canceled  lead_time arrival_date_month  \\\n",
       "0  Resort Hotel            0        342               July   \n",
       "1  Resort Hotel            0        737               July   \n",
       "2  Resort Hotel            0          7               July   \n",
       "3  Resort Hotel            0         13               July   \n",
       "4  Resort Hotel            0         14               July   \n",
       "\n",
       "   stays_in_weekend_nights  stays_in_week_nights  adults  children  babies  \\\n",
       "0                        0                     0       2       0.0       0   \n",
       "1                        0                     0       2       0.0       0   \n",
       "2                        0                     1       1       0.0       0   \n",
       "3                        0                     1       1       0.0       0   \n",
       "4                        0                     2       2       0.0       0   \n",
       "\n",
       "  meal  ... previous_bookings_not_canceled reserved_room_type  \\\n",
       "0   BB  ...                              0                  C   \n",
       "1   BB  ...                              0                  C   \n",
       "2   BB  ...                              0                  A   \n",
       "3   BB  ...                              0                  A   \n",
       "4   BB  ...                              0                  A   \n",
       "\n",
       "  assigned_room_type  booking_changes  deposit_type  customer_type   adr  \\\n",
       "0                  C                3    No Deposit      Transient   0.0   \n",
       "1                  C                4    No Deposit      Transient   0.0   \n",
       "2                  C                0    No Deposit      Transient  75.0   \n",
       "3                  A                0    No Deposit      Transient  75.0   \n",
       "4                  A                0    No Deposit      Transient  98.0   \n",
       "\n",
       "  total_of_special_requests  reservation_status reservation_status_date  \n",
       "0                         0           Check-Out              2015-07-01  \n",
       "1                         0           Check-Out              2015-07-01  \n",
       "2                         0           Check-Out              2015-07-02  \n",
       "3                         0           Check-Out              2015-07-02  \n",
       "4                         1           Check-Out              2015-07-03  \n",
       "\n",
       "[5 rows x 25 columns]"
      ]
     },
     "execution_count": 23,
     "metadata": {},
     "output_type": "execute_result"
    }
   ],
   "source": [
    "remove_columns = [\n",
    "    'arrival_date_year',\n",
    "    'arrival_date_week_number',\n",
    "    'arrival_date_day_of_month',\n",
    "    'days_in_waiting_list',\n",
    "    'company',\n",
    "    'agent',\n",
    "    'required_car_parking_spaces'\n",
    "    ]\n",
    "#above are the columns ill be removing\n",
    "\n",
    "#storing the cleaned dataframe into another variable\n",
    "hotel_df_cleaned = hotel_df.drop(columns=remove_columns) \n",
    "\n",
    "hotel_df_cleaned.head()"
   ]
  },
  {
   "cell_type": "code",
   "execution_count": 25,
   "metadata": {},
   "outputs": [
    {
     "name": "stdout",
     "output_type": "stream",
     "text": [
      "the value for babies is [ 0  1  2 10  9] \n",
      " \n",
      " the value for children is [ 0.  1.  2. 10.  3. nan]\n"
     ]
    }
   ],
   "source": [
    "#check for unqiue values to look for similarities\n",
    "unique_babies = hotel_df_cleaned['babies'].unique()\n",
    "unique_children = hotel_df_cleaned['children'].unique() \n",
    "\n",
    "print(f\"the value for babies is {unique_babies} \\n \\n the value for children is {unique_children}\")"
   ]
  },
  {
   "cell_type": "markdown",
   "metadata": {},
   "source": [
    "I noticed that there is a babies and children column. Identifying the unique values in both columns to see if they are similar. Different and some similar values so decided to keep these columns. However, children has some nan values."
   ]
  },
  {
   "cell_type": "markdown",
   "metadata": {
    "id": "uUImFV45PG4E"
   },
   "source": [
    "## 1.1 Missing Values (10%)\n",
    "\n",
    "Identify and handle missing values."
   ]
  },
  {
   "cell_type": "code",
   "execution_count": 26,
   "metadata": {
    "id": "c4eXcreOQxTD"
   },
   "outputs": [
    {
     "name": "stdout",
     "output_type": "stream",
     "text": [
      "Number of NaN values in children column is: 4 out of total values : 12403.0\n"
     ]
    }
   ],
   "source": [
    "# <<< Your code here >>>\n",
    "# Checking to see the number of Nan values in the children column.\n",
    "print(f\"Number of NaN values in children column is: {hotel_df_cleaned['children'].isna().sum()} out of total values : {hotel_df_cleaned['children'].sum()}\")"
   ]
  },
  {
   "cell_type": "code",
   "execution_count": 27,
   "metadata": {},
   "outputs": [
    {
     "name": "stdout",
     "output_type": "stream",
     "text": [
      "Number of remaining rows after removing NaN values in children: 119386\n"
     ]
    }
   ],
   "source": [
    "# Remove rows with NaN values in the 'children' column\n",
    "hotel_df_cleaned = hotel_df_cleaned.dropna(subset=['children'])\n",
    "\n",
    "# Verify the change\n",
    "print(f\"Number of remaining rows after removing NaN values in children: {hotel_df_cleaned.shape[0]}\")\n"
   ]
  },
  {
   "cell_type": "code",
   "execution_count": 28,
   "metadata": {},
   "outputs": [
    {
     "name": "stdout",
     "output_type": "stream",
     "text": [
      "Missing values in each column: hotel                               0\n",
      "is_canceled                         0\n",
      "lead_time                           0\n",
      "arrival_date_month                  0\n",
      "stays_in_weekend_nights             0\n",
      "stays_in_week_nights                0\n",
      "adults                              0\n",
      "children                            0\n",
      "babies                              0\n",
      "meal                                0\n",
      "country                           488\n",
      "market_segment                      0\n",
      "distribution_channel                0\n",
      "is_repeated_guest                   0\n",
      "previous_cancellations              0\n",
      "previous_bookings_not_canceled      0\n",
      "reserved_room_type                  0\n",
      "assigned_room_type                  0\n",
      "booking_changes                     0\n",
      "deposit_type                        0\n",
      "customer_type                       0\n",
      "adr                                 0\n",
      "total_of_special_requests           0\n",
      "reservation_status                  0\n",
      "reservation_status_date             0\n",
      "dtype: int64\n"
     ]
    }
   ],
   "source": [
    "# Check for missing values in other columns\n",
    "\n",
    "missing_values = hotel_df_cleaned.isna().sum()\n",
    "print(f\"Missing values in each column: {missing_values}\")"
   ]
  },
  {
   "cell_type": "markdown",
   "metadata": {},
   "source": [
    "Output suggests that i only need to look at the values in the country column and decide what i want to do with the missing values."
   ]
  },
  {
   "cell_type": "code",
   "execution_count": 32,
   "metadata": {},
   "outputs": [
    {
     "name": "stdout",
     "output_type": "stream",
     "text": [
      "118898\n"
     ]
    }
   ],
   "source": [
    "print(f\"{hotel_df_cleaned['country'].count()}\") # Looking at the number of values in the country column"
   ]
  },
  {
   "cell_type": "markdown",
   "metadata": {},
   "source": [
    "Better to drop as we are not gonna be losing alot of data and it will ensure that the data we will be working on is complete."
   ]
  },
  {
   "cell_type": "code",
   "execution_count": 34,
   "metadata": {},
   "outputs": [],
   "source": [
    "# Drop rows with NaN in the 'country' column\n",
    "hotel_df_cleaned = hotel_df_cleaned.dropna(subset=['country'])"
   ]
  },
  {
   "cell_type": "markdown",
   "metadata": {
    "id": "P_gLR3YnRTFf"
   },
   "source": [
    "## Unique values\n",
    "\n",
    "Find out unique values in columns. This will help you in identifying in-consistent data."
   ]
  },
  {
   "cell_type": "code",
   "execution_count": 36,
   "metadata": {
    "id": "kprpK-8NQx0E"
   },
   "outputs": [
    {
     "name": "stdout",
     "output_type": "stream",
     "text": [
      "Unique values in 'hotel': ['Resort Hotel' 'City Hotel']\n",
      "Unique values in 'is_canceled': [0 1]\n",
      "Unique values in 'lead_time': [342 737   7  13  14   0   9  85  75  23  35  68  18  37  12  72 127  78\n",
      "  48  60  77  99  95  96  69  45  40  15  36  43  70  16 107  47 113  90\n",
      "  50  93  76   3   1  10   5  17  51  71  63  62 101   2  81 368 364 324\n",
      "  79  21 109 102   4  98  92  26  73 115  86  52  29  30  33  32   8 100\n",
      "  44  80  97  64  39  34  27  82  94 110 111  84  66 104  28 258 112  65\n",
      "  67  55  88  54 292  83 105 280 394  24 103 366 249  22  91  11 108 106\n",
      "  31  87  41 304 117  59  53  58 116  42 321  38 118  56  49 317   6  57\n",
      "  19  25 315 123  46  89  61 312 299 130  74 298 119  20 286 136 129 124\n",
      " 327 131 460 140 114 139 122 137 126 120 128 135 150 143 151 132 125 157\n",
      " 147 138 156 164 346 159 160 161 333 381 149 154 297 163 314 155 323 340\n",
      " 356 142 328 144 336 248 302 175 344 382 146 170 166 338 167 310 148 165\n",
      " 172 171 145 121 178 305 173 152 354 347 158 185 349 183 352 177 200 192\n",
      " 361 207 174 330 134 350 334 283 153 197 133 241 193 235 194 261 260 216\n",
      " 169 209 238 215 141 189 187 223 284 214 202 211 168 230 203 188 232 709\n",
      " 219 162 196 190 259 228 176 250 201 186 199 180 206 205 224 222 182 210\n",
      " 275 212 229 218 208 191 181 179 246 255 226 288 253 252 262 236 256 234\n",
      " 254 468 213 237 198 195 239 263 265 274 217 220 307 221 233 257 227 276\n",
      " 225 264 311 277 204 290 266 270 294 319 282 251 322 291 269 240 271 184\n",
      " 231 268 247 273 300 301 267 244 306 293 309 272 242 295 285 243 308 398\n",
      " 303 245 424 279 331 281 339 434 357 325 329 278 332 343 345 360 348 367\n",
      " 353 373 374 406 400 326 379 399 316 341 320 385 355 363 358 296 422 390\n",
      " 335 370 376 375 397 289 542 403 383 384 359 393 337 362 365 435 386 378\n",
      " 313 351 287 471 462 411 450 318 372 371 454 532 445 389 388 407 443 437\n",
      " 451 391 405 412 419 420 426 433 440 429 418 447 461 605 457 475 464 482\n",
      " 626 489 496 503 510 517 524 531 538 545 552 559 566 573 580 587 594 601\n",
      " 608 615 622 629 396 410 395 423 408 409 448 465 387 414 476 479 467 490\n",
      " 493 478 504 507 458 518 521 377 444 380 463]\n",
      "Unique values in 'arrival_date_month': ['July' 'August' 'September' 'October' 'November' 'December' 'January'\n",
      " 'February' 'March' 'April' 'May' 'June']\n",
      "Unique values in 'stays_in_weekend_nights': [ 0  1  2  4  3  6 13  8  5  7 12  9 16 10 14]\n",
      "Unique values in 'stays_in_week_nights': [ 0  1  2  3  4  5 11  8 10  6  7 15  9 12 33 20 14 16 21 13 30 19 24 40\n",
      " 22 25 17 32 26 18 34 35 41]\n",
      "Unique values in 'adults': [ 2  1  3  4 40 26 50 27 55  0 20  6  5 10]\n",
      "Unique values in 'children': [ 0.  1.  2. 10.  3.]\n",
      "Unique values in 'babies': [ 0  1  2 10  9]\n",
      "Unique values in 'meal': ['BB' 'FB' 'HB' 'SC' 'Undefined']\n",
      "Unique values in 'country': ['PRT' 'GBR' 'USA' 'ESP' 'IRL' 'FRA' 'ROU' 'NOR' 'OMN' 'ARG' 'POL' 'DEU'\n",
      " 'BEL' 'CHE' 'CN' 'GRC' 'ITA' 'NLD' 'DNK' 'RUS' 'SWE' 'AUS' 'EST' 'CZE'\n",
      " 'BRA' 'FIN' 'MOZ' 'BWA' 'LUX' 'SVN' 'ALB' 'IND' 'CHN' 'MEX' 'MAR' 'UKR'\n",
      " 'SMR' 'LVA' 'PRI' 'SRB' 'CHL' 'AUT' 'BLR' 'LTU' 'TUR' 'ZAF' 'AGO' 'ISR'\n",
      " 'CYM' 'ZMB' 'CPV' 'ZWE' 'DZA' 'KOR' 'CRI' 'HUN' 'ARE' 'TUN' 'JAM' 'HRV'\n",
      " 'HKG' 'IRN' 'GEO' 'AND' 'GIB' 'URY' 'JEY' 'CAF' 'CYP' 'COL' 'GGY' 'KWT'\n",
      " 'NGA' 'MDV' 'VEN' 'SVK' 'FJI' 'KAZ' 'PAK' 'IDN' 'LBN' 'PHL' 'SEN' 'SYC'\n",
      " 'AZE' 'BHR' 'NZL' 'THA' 'DOM' 'MKD' 'MYS' 'ARM' 'JPN' 'LKA' 'CUB' 'CMR'\n",
      " 'BIH' 'MUS' 'COM' 'SUR' 'UGA' 'BGR' 'CIV' 'JOR' 'SYR' 'SGP' 'BDI' 'SAU'\n",
      " 'VNM' 'PLW' 'QAT' 'EGY' 'PER' 'MLT' 'MWI' 'ECU' 'MDG' 'ISL' 'UZB' 'NPL'\n",
      " 'BHS' 'MAC' 'TGO' 'TWN' 'DJI' 'STP' 'KNA' 'ETH' 'IRQ' 'HND' 'RWA' 'KHM'\n",
      " 'MCO' 'BGD' 'IMN' 'TJK' 'NIC' 'BEN' 'VGB' 'TZA' 'GAB' 'GHA' 'TMP' 'GLP'\n",
      " 'KEN' 'LIE' 'GNB' 'MNE' 'UMI' 'MYT' 'FRO' 'MMR' 'PAN' 'BFA' 'LBY' 'MLI'\n",
      " 'NAM' 'BOL' 'PRY' 'BRB' 'ABW' 'AIA' 'SLV' 'DMA' 'PYF' 'GUY' 'LCA' 'ATA'\n",
      " 'GTM' 'ASM' 'MRT' 'NCL' 'KIR' 'SDN' 'ATF' 'SLE' 'LAO']\n",
      "Unique values in 'market_segment': ['Direct' 'Corporate' 'Online TA' 'Offline TA/TO' 'Complementary' 'Groups'\n",
      " 'Aviation']\n",
      "Unique values in 'distribution_channel': ['Direct' 'Corporate' 'TA/TO' 'Undefined' 'GDS']\n",
      "Unique values in 'is_repeated_guest': [0 1]\n",
      "Unique values in 'previous_cancellations': [ 0  1  2  3 26 25 14  4 24 19  5 21  6 13 11]\n",
      "Unique values in 'previous_bookings_not_canceled': [ 0  1  2  3  5  4  6  7  8  9 10 11 12 13 14 15 21 24 25 27 28 30 16 17\n",
      " 18 19 20 22 23 26 29 31 32 33 34 35 36 37 38 39 40 41 42 43 44 45 46 47\n",
      " 48 49 50 51 52 53 54 55 56 57 58 59 60 61 62 63 64 65 66 67 68 69 70 71\n",
      " 72]\n",
      "Unique values in 'reserved_room_type': ['C' 'A' 'D' 'E' 'G' 'F' 'H' 'L' 'B' 'P']\n",
      "Unique values in 'assigned_room_type': ['C' 'A' 'D' 'E' 'G' 'F' 'I' 'B' 'H' 'L' 'K' 'P']\n",
      "Unique values in 'booking_changes': [ 3  4  0  1  2  5 17  6  8  7 10 16  9 13 12 20 14 15 11 21 18]\n",
      "Unique values in 'deposit_type': ['No Deposit' 'Refundable' 'Non Refund']\n",
      "Unique values in 'customer_type': ['Transient' 'Contract' 'Transient-Party' 'Group']\n",
      "Unique values in 'adr': [  0.    75.    98.   ... 266.75 209.25 157.71]\n",
      "Unique values in 'total_of_special_requests': [0 1 3 2 4 5]\n",
      "Unique values in 'reservation_status': ['Check-Out' 'Canceled' 'No-Show']\n",
      "Unique values in 'reservation_status_date': ['2015-07-01' '2015-07-02' '2015-07-03' '2015-05-06' '2015-04-22'\n",
      " '2015-06-23' '2015-07-05' '2015-07-06' '2015-07-07' '2015-07-08'\n",
      " '2015-05-11' '2015-07-16' '2015-05-29' '2015-05-19' '2015-06-19'\n",
      " '2015-05-23' '2015-05-18' '2015-07-09' '2015-06-02' '2015-07-13'\n",
      " '2015-07-04' '2015-06-29' '2015-06-16' '2015-06-18' '2015-06-12'\n",
      " '2015-06-09' '2015-05-26' '2015-07-11' '2015-07-12' '2015-07-17'\n",
      " '2015-04-15' '2015-05-13' '2015-07-10' '2015-05-20' '2015-05-12'\n",
      " '2015-07-14' '2015-06-17' '2015-05-01' '2015-03-30' '2015-07-15'\n",
      " '2015-07-19' '2015-06-03' '2015-06-26' '2015-05-14' '2015-07-20'\n",
      " '2015-05-07' '2015-05-28' '2015-04-13' '2015-03-25' '2015-07-21'\n",
      " '2015-06-27' '2015-07-18' '2015-07-23' '2015-06-08' '2015-06-22'\n",
      " '2015-06-24' '2015-03-05' '2015-06-01' '2015-04-24' '2015-07-22'\n",
      " '2015-05-27' '2015-04-06' '2015-04-11' '2015-07-25' '2015-07-28'\n",
      " '2015-07-29' '2015-06-25' '2015-07-24' '2015-06-05' '2015-06-30'\n",
      " '2015-06-13' '2015-06-11' '2015-07-30' '2015-07-27' '2015-04-29'\n",
      " '2015-06-04' '2015-07-26' '2015-08-01' '2015-08-02' '2015-06-15'\n",
      " '2015-04-23' '2015-07-31' '2015-05-25' '2015-08-03' '2015-04-17'\n",
      " '2015-08-04' '2015-08-06' '2015-05-15' '2015-05-09' '2015-03-17'\n",
      " '2015-05-22' '2015-08-07' '2015-04-04' '2015-08-05' '2015-08-08'\n",
      " '2015-08-10' '2015-05-04' '2015-06-06' '2015-08-09' '2015-08-15'\n",
      " '2015-08-11' '2015-03-28' '2015-08-14' '2015-08-12' '2015-08-16'\n",
      " '2015-05-16' '2015-08-21' '2015-08-13' '2015-08-17' '2015-04-20'\n",
      " '2015-08-18' '2015-08-23' '2015-08-22' '2015-08-19' '2015-08-20'\n",
      " '2015-08-29' '2015-03-31' '2015-05-30' '2015-08-25' '2015-04-14'\n",
      " '2015-08-24' '2015-03-24' '2015-05-21' '2015-08-28' '2015-08-26'\n",
      " '2015-08-27' '2015-08-30' '2015-08-31' '2015-09-06' '2015-09-03'\n",
      " '2015-09-04' '2015-09-02' '2015-09-01' '2015-09-05' '2015-06-20'\n",
      " '2015-09-07' '2015-09-10' '2015-09-11' '2015-09-08' '2015-09-09'\n",
      " '2015-09-13' '2015-09-15' '2015-04-10' '2015-01-02' '2014-11-18'\n",
      " '2015-09-12' '2015-09-17' '2015-09-14' '2015-04-07' '2015-09-19'\n",
      " '2015-09-16' '2015-09-20' '2015-01-18' '2015-10-23' '2015-01-22'\n",
      " '2015-01-01' '2015-09-22' '2015-09-24' '2015-09-18' '2015-09-21'\n",
      " '2015-09-30' '2015-09-25' '2015-09-27' '2015-09-28' '2015-10-12'\n",
      " '2015-09-29' '2015-09-23' '2015-10-01' '2015-09-26' '2015-04-18'\n",
      " '2015-10-02' '2015-10-04' '2015-10-08' '2015-10-03' '2015-10-07'\n",
      " '2015-10-09' '2015-10-11' '2015-10-05' '2015-10-06' '2015-10-10'\n",
      " '2015-10-14' '2015-10-15' '2015-10-18' '2015-10-13' '2015-10-20'\n",
      " '2015-10-19' '2015-10-31' '2015-10-16' '2015-10-21' '2015-10-22'\n",
      " '2015-10-17' '2015-10-24' '2015-10-25' '2015-10-28' '2015-10-27'\n",
      " '2015-10-26' '2015-10-30' '2015-11-05' '2015-10-29' '2015-11-03'\n",
      " '2015-11-07' '2015-11-04' '2015-11-01' '2015-11-02' '2015-11-17'\n",
      " '2015-11-06' '2015-11-10' '2015-11-08' '2015-11-09' '2015-11-15'\n",
      " '2015-11-16' '2015-11-11' '2015-11-12' '2015-11-14' '2015-11-13'\n",
      " '2015-11-18' '2015-11-22' '2015-11-19' '2015-11-21' '2015-11-20'\n",
      " '2015-11-24' '2015-11-25' '2015-11-23' '2015-11-28' '2015-11-26'\n",
      " '2015-11-27' '2015-11-29' '2015-12-04' '2015-12-01' '2015-12-06'\n",
      " '2015-12-08' '2015-12-02' '2015-12-03' '2015-12-31' '2015-12-05'\n",
      " '2015-12-10' '2015-12-17' '2015-11-30' '2015-12-12' '2015-12-07'\n",
      " '2016-01-05' '2015-12-11' '2015-12-13' '2015-12-15' '2015-12-16'\n",
      " '2015-12-19' '2015-12-18' '2015-12-26' '2015-12-27' '2015-12-22'\n",
      " '2015-12-23' '2015-12-24' '2015-12-29' '2015-12-28' '2015-12-20'\n",
      " '2015-12-30' '2016-01-02' '2016-01-01' '2015-12-25' '2016-01-03'\n",
      " '2016-01-04' '2016-01-11' '2016-01-07' '2015-12-21' '2016-01-09'\n",
      " '2016-01-10' '2016-01-08' '2016-01-06' '2016-01-12' '2016-01-13'\n",
      " '2016-01-23' '2016-02-09' '2016-01-15' '2016-01-16' '2016-01-17'\n",
      " '2016-01-19' '2016-01-18' '2016-01-21' '2016-01-24' '2016-01-22'\n",
      " '2016-01-29' '2016-01-27' '2016-01-25' '2016-03-08' '2016-01-26'\n",
      " '2016-01-20' '2016-01-30' '2016-02-01' '2016-02-02' '2016-02-08'\n",
      " '2016-02-07' '2016-01-28' '2016-02-05' '2016-02-03' '2016-02-13'\n",
      " '2016-02-10' '2016-02-04' '2016-02-12' '2016-02-11' '2016-02-16'\n",
      " '2016-02-14' '2016-02-15' '2016-02-20' '2016-02-06' '2016-01-14'\n",
      " '2016-02-17' '2016-02-21' '2016-02-24' '2016-02-25' '2016-02-19'\n",
      " '2016-02-18' '2016-02-26' '2016-02-23' '2016-03-05' '2016-02-22'\n",
      " '2016-02-27' '2016-03-03' '2016-03-24' '2016-03-04' '2016-02-29'\n",
      " '2016-03-01' '2016-03-02' '2016-03-30' '2016-03-07' '2016-03-14'\n",
      " '2016-03-21' '2016-03-09' '2016-03-12' '2016-03-22' '2016-03-10'\n",
      " '2016-03-11' '2016-03-20' '2016-03-15' '2016-03-17' '2016-03-16'\n",
      " '2016-03-19' '2016-03-27' '2016-03-18' '2016-03-26' '2016-03-31'\n",
      " '2016-03-28' '2016-03-29' '2016-04-01' '2016-03-23' '2016-04-02'\n",
      " '2016-03-25' '2016-03-13' '2016-04-04' '2016-04-03' '2016-04-05'\n",
      " '2016-04-08' '2016-04-06' '2016-04-09' '2016-04-12' '2016-04-16'\n",
      " '2016-04-17' '2016-04-27' '2016-04-14' '2016-04-18' '2016-04-21'\n",
      " '2016-04-19' '2016-04-20' '2016-04-10' '2016-04-13' '2016-04-11'\n",
      " '2016-04-07' '2016-04-15' '2016-04-22' '2016-04-23' '2016-04-26'\n",
      " '2016-04-28' '2016-04-24' '2016-04-25' '2016-04-29' '2016-04-30'\n",
      " '2016-05-01' '2016-05-10' '2016-05-02' '2016-05-07' '2016-05-08'\n",
      " '2016-05-12' '2016-05-04' '2016-05-06' '2016-05-03' '2016-05-09'\n",
      " '2016-05-05' '2016-05-13' '2016-05-14' '2016-05-18' '2016-05-19'\n",
      " '2016-05-15' '2016-05-16' '2016-05-11' '2016-05-21' '2016-05-22'\n",
      " '2016-05-20' '2016-05-24' '2016-05-25' '2016-05-26' '2016-05-23'\n",
      " '2016-05-27' '2016-05-17' '2016-05-29' '2016-05-28' '2016-05-30'\n",
      " '2016-05-31' '2016-06-01' '2016-06-03' '2016-06-08' '2016-06-02'\n",
      " '2016-06-05' '2016-06-06' '2016-06-13' '2016-06-07' '2016-06-10'\n",
      " '2016-06-11' '2016-06-16' '2016-06-12' '2016-06-14' '2016-06-17'\n",
      " '2016-06-04' '2016-06-18' '2016-06-21' '2016-06-09' '2016-06-24'\n",
      " '2016-06-20' '2016-06-25' '2016-06-22' '2016-06-26' '2016-06-23'\n",
      " '2016-07-01' '2016-06-15' '2016-06-28' '2016-07-02' '2016-06-19'\n",
      " '2016-06-27' '2016-07-04' '2016-06-30' '2016-07-05' '2016-07-08'\n",
      " '2016-07-09' '2016-07-07' '2016-07-12' '2016-06-29' '2016-07-10'\n",
      " '2016-07-15' '2016-07-03' '2016-07-16' '2016-07-14' '2016-07-18'\n",
      " '2016-07-13' '2016-07-06' '2016-07-20' '2016-07-21' '2016-07-23'\n",
      " '2016-07-19' '2016-07-11' '2016-07-28' '2016-07-17' '2016-07-25'\n",
      " '2016-07-22' '2016-07-29' '2016-08-03' '2016-08-02' '2016-08-04'\n",
      " '2016-08-08' '2016-08-10' '2016-08-01' '2016-08-06' '2016-03-06'\n",
      " '2016-08-05' '2016-07-26' '2016-08-07' '2016-07-30' '2016-07-24'\n",
      " '2016-08-12' '2016-07-27' '2016-08-13' '2016-08-18' '2016-08-16'\n",
      " '2016-08-15' '2016-08-17' '2016-08-11' '2016-07-31' '2016-08-19'\n",
      " '2016-09-01' '2016-08-23' '2016-08-26' '2016-08-20' '2016-08-21'\n",
      " '2016-09-04' '2016-08-22' '2016-08-27' '2016-08-25' '2016-08-09'\n",
      " '2016-09-05' '2016-08-24' '2016-09-10' '2016-08-29' '2016-09-09'\n",
      " '2016-08-30' '2016-09-13' '2016-08-31' '2016-09-14' '2016-09-12'\n",
      " '2016-09-15' '2016-08-14' '2016-09-02' '2016-09-08' '2016-09-19'\n",
      " '2016-09-16' '2016-09-07' '2016-09-21' '2016-09-06' '2016-09-22'\n",
      " '2016-09-17' '2016-09-20' '2016-09-03' '2016-09-26' '2016-09-23'\n",
      " '2016-09-18' '2016-09-29' '2016-10-02' '2016-10-01' '2016-09-27'\n",
      " '2016-09-25' '2016-10-05' '2016-09-11' '2016-09-30' '2016-10-09'\n",
      " '2016-10-03' '2016-10-06' '2016-10-11' '2016-09-24' '2016-10-13'\n",
      " '2016-09-28' '2016-10-08' '2016-10-07' '2016-10-16' '2016-08-28'\n",
      " '2016-10-17' '2016-10-18' '2016-10-10' '2016-10-04' '2016-10-15'\n",
      " '2016-10-19' '2016-10-21' '2016-10-12' '2016-10-24' '2016-10-26'\n",
      " '2016-10-23' '2016-10-20' '2016-10-25' '2016-10-27' '2016-10-28'\n",
      " '2016-10-30' '2016-10-29' '2016-11-01' '2016-11-04' '2016-10-14'\n",
      " '2016-11-07' '2016-11-03' '2016-11-10' '2016-11-14' '2016-11-02'\n",
      " '2016-10-31' '2016-11-11' '2016-11-08' '2016-11-05' '2016-11-25'\n",
      " '2016-11-09' '2016-11-20' '2016-10-22' '2016-11-22' '2016-11-16'\n",
      " '2016-11-23' '2016-11-17' '2016-11-06' '2016-11-15' '2016-11-13'\n",
      " '2016-11-12' '2016-11-21' '2016-11-27' '2016-11-19' '2016-11-30'\n",
      " '2016-11-18' '2016-12-02' '2016-12-04' '2016-11-29' '2016-12-07'\n",
      " '2016-11-28' '2016-12-03' '2016-12-06' '2016-11-24' '2016-12-08'\n",
      " '2016-12-05' '2016-12-10' '2016-12-13' '2016-12-14' '2016-12-16'\n",
      " '2016-12-15' '2016-12-17' '2016-12-19' '2016-12-21' '2016-12-20'\n",
      " '2016-12-22' '2016-12-23' '2016-12-24' '2016-12-01' '2016-12-27'\n",
      " '2016-12-29' '2016-12-30' '2016-12-12' '2017-01-02' '2016-12-11'\n",
      " '2017-01-03' '2017-01-04' '2017-01-01' '2016-12-26' '2017-01-06'\n",
      " '2016-12-28' '2016-12-18' '2017-01-10' '2017-01-11' '2017-01-07'\n",
      " '2017-01-12' '2017-01-16' '2017-01-14' '2017-01-13' '2017-01-05'\n",
      " '2017-01-17' '2017-01-20' '2016-12-09' '2017-01-26' '2016-12-31'\n",
      " '2017-01-23' '2017-01-27' '2017-01-28' '2017-01-19' '2017-01-25'\n",
      " '2017-01-24' '2017-01-29' '2017-01-18' '2016-12-25' '2017-01-15'\n",
      " '2017-01-21' '2017-02-01' '2017-02-02' '2017-01-31' '2017-02-03'\n",
      " '2017-02-04' '2017-02-06' '2017-02-07' '2017-02-08' '2017-01-30'\n",
      " '2017-02-09' '2017-01-09' '2017-02-11' '2017-02-10' '2017-02-12'\n",
      " '2017-02-13' '2017-02-14' '2017-02-16' '2017-02-17' '2017-02-18'\n",
      " '2017-02-19' '2017-02-20' '2017-02-15' '2017-02-21' '2017-02-22'\n",
      " '2017-02-26' '2017-02-23' '2017-02-24' '2017-02-25' '2017-02-28'\n",
      " '2017-03-05' '2017-02-27' '2017-03-03' '2017-03-06' '2017-03-02'\n",
      " '2017-03-08' '2017-03-09' '2017-03-10' '2017-03-07' '2017-03-12'\n",
      " '2017-03-13' '2017-03-14' '2017-03-01' '2017-03-18' '2017-03-17'\n",
      " '2017-03-24' '2017-03-22' '2017-03-26' '2017-03-27' '2017-03-11'\n",
      " '2017-03-28' '2017-03-29' '2017-03-30' '2017-03-31' '2017-03-19'\n",
      " '2017-01-22' '2017-04-02' '2017-03-20' '2017-04-03' '2017-01-08'\n",
      " '2017-03-23' '2017-04-05' '2017-02-05' '2017-04-04' '2017-03-15'\n",
      " '2017-04-07' '2017-03-25' '2017-04-08' '2017-04-06' '2017-03-21'\n",
      " '2017-04-10' '2017-04-01' '2017-04-11' '2017-04-13' '2017-04-15'\n",
      " '2017-04-12' '2017-03-04' '2017-04-19' '2017-04-22' '2017-04-20'\n",
      " '2017-05-02' '2017-04-09' '2017-04-23' '2017-04-24' '2017-04-16'\n",
      " '2017-04-28' '2017-04-18' '2017-04-26' '2017-04-25' '2017-04-17'\n",
      " '2017-04-21' '2017-05-03' '2017-05-04' '2017-03-16' '2017-05-05'\n",
      " '2017-04-29' '2017-04-14' '2017-05-08' '2017-04-27' '2017-05-11'\n",
      " '2017-05-01' '2017-05-10' '2017-05-13' '2017-05-06' '2017-05-14'\n",
      " '2017-05-16' '2017-04-30' '2017-05-15' '2017-05-07' '2017-05-09'\n",
      " '2017-05-17' '2017-05-21' '2017-05-12' '2017-05-22' '2017-05-24'\n",
      " '2017-05-23' '2017-05-25' '2017-05-26' '2017-05-28' '2017-05-27'\n",
      " '2017-05-29' '2017-05-19' '2017-05-31' '2017-05-20' '2017-06-01'\n",
      " '2017-05-30' '2017-06-02' '2016-11-26' '2017-06-04' '2017-06-05'\n",
      " '2017-06-06' '2017-06-07' '2017-05-18' '2017-06-09' '2017-06-10'\n",
      " '2017-06-11' '2017-06-12' '2017-06-14' '2017-06-08' '2017-06-16'\n",
      " '2017-06-13' '2017-06-03' '2017-06-24' '2017-06-20' '2017-06-19'\n",
      " '2017-06-21' '2017-06-26' '2017-06-27' '2017-06-22' '2017-06-28'\n",
      " '2017-06-15' '2017-06-29' '2017-06-30' '2017-06-18' '2017-07-04'\n",
      " '2017-07-08' '2017-07-05' '2017-07-03' '2017-07-07' '2017-07-01'\n",
      " '2017-07-06' '2017-07-11' '2017-07-12' '2017-06-23' '2017-07-13'\n",
      " '2017-07-02' '2017-07-10' '2017-07-14' '2017-07-15' '2017-07-16'\n",
      " '2017-07-18' '2017-07-17' '2017-07-19' '2017-07-20' '2017-07-21'\n",
      " '2017-06-25' '2017-06-17' '2017-07-24' '2017-07-26' '2017-07-09'\n",
      " '2017-07-27' '2017-07-28' '2017-07-31' '2017-07-29' '2017-07-22'\n",
      " '2017-08-02' '2017-08-01' '2017-08-03' '2017-08-04' '2017-07-25'\n",
      " '2017-07-23' '2017-08-09' '2017-08-10' '2017-07-30' '2017-08-07'\n",
      " '2017-08-13' '2017-08-05' '2017-08-14' '2017-08-08' '2017-08-16'\n",
      " '2017-08-17' '2017-08-15' '2017-08-18' '2017-08-20' '2017-08-22'\n",
      " '2017-08-06' '2017-08-25' '2017-08-26' '2017-08-23' '2017-08-11'\n",
      " '2017-08-27' '2017-08-21' '2017-08-29' '2017-08-31' '2017-08-12'\n",
      " '2017-08-19' '2017-09-01' '2017-08-28' '2015-04-03' '2015-01-21'\n",
      " '2015-01-28' '2015-01-29' '2015-01-30' '2015-02-02' '2015-02-05'\n",
      " '2015-02-06' '2015-02-09' '2015-02-10' '2015-02-11' '2015-02-12'\n",
      " '2015-02-19' '2015-02-20' '2015-02-23' '2015-02-24' '2015-02-25'\n",
      " '2015-02-26' '2015-02-27' '2015-03-03' '2015-03-04' '2015-03-06'\n",
      " '2015-03-09' '2015-03-11' '2015-03-12' '2015-03-18' '2015-04-02'\n",
      " '2015-06-14' '2015-04-08' '2015-04-16' '2015-04-25' '2015-04-28'\n",
      " '2015-05-08' '2016-01-31' '2017-09-06' '2016-02-28' '2015-12-09'\n",
      " '2015-12-14' '2017-09-09' '2017-09-02' '2017-08-24' '2017-08-30'\n",
      " '2017-09-03' '2017-09-04' '2017-09-05' '2017-09-07' '2017-09-08'\n",
      " '2017-09-10' '2017-09-12' '2017-09-14' '2015-04-30' '2015-04-21'\n",
      " '2015-04-05' '2015-03-13' '2015-05-05' '2015-03-29' '2015-06-10'\n",
      " '2015-04-27' '2014-10-17' '2015-01-20' '2015-02-17' '2015-03-10'\n",
      " '2015-03-23']\n"
     ]
    }
   ],
   "source": [
    "# <<< Your code here >>>\n",
    "# Look at all the unique values in the dataFrame\n",
    "\n",
    "for column in hotel_df_cleaned.columns:\n",
    "    unique_values = hotel_df_cleaned[column].unique()\n",
    "    print(f\"Unique values in '{column}': {unique_values}\")"
   ]
  },
  {
   "cell_type": "markdown",
   "metadata": {},
   "source": [
    "##### From the output i can see some values that need verifying. Like the children and babies values are high sometimes being '10' and some adult values being as high as '55'. Some adr values are also 0 which need checking as this suggests missing data or free stays."
   ]
  },
  {
   "cell_type": "markdown",
   "metadata": {
    "id": "1Qiv5MThgpgM"
   },
   "source": [
    "## 1.2 Removing Inconsistent values and Outliers (10%)\n",
    "\n",
    "Detecting inconsistencies can be achieved through a variety of methods. Some can be identified by examining unique values within each column, while others may require a solid understanding of the problem domain. Since you might not be an expert in the hotel or hospitality industry, here are some helpful hints:\n",
    "\n",
    "Hints:\n",
    "\n",
    "1. Check for incomplete bookings, such as reservations with zero adults, babies, or children.\n",
    "2. Examine rows with zeros in both 'stays_in_weekend_nights' and 'stays_in_week_nights.'\n",
    "\n"
   ]
  },
  {
   "cell_type": "markdown",
   "metadata": {},
   "source": [
    "<span style=\"color:red\">First im gonna focus on the inconsistencies that i identified above.\n",
    "</span>"
   ]
  },
  {
   "cell_type": "code",
   "execution_count": 1,
   "metadata": {
    "id": "qNukKr-XQzc7"
   },
   "outputs": [],
   "source": [
    "# <<< Your code here >>>"
   ]
  },
  {
   "cell_type": "markdown",
   "metadata": {
    "id": "1Qiv5MThgpgM"
   },
   "source": [
    "## 1.3 Column data type conversion (5%)\n",
    "\n",
    "All necessary columns should be correctly converted to appropriate data types.\n"
   ]
  },
  {
   "cell_type": "code",
   "execution_count": null,
   "metadata": {
    "id": "qNukKr-XQzc7"
   },
   "outputs": [],
   "source": [
    "# <<< Your code here >>>"
   ]
  },
  {
   "cell_type": "markdown",
   "metadata": {
    "id": "GKLLdSmuM3wJ"
   },
   "source": [
    "# 2. Exploratory Data Analysis (25%)\n",
    "\n",
    "\n",
    "---\n",
    "\n",
    "\n",
    "\n",
    "\n",
    "\n",
    "You've also been provided with examples of valuable insights that could be of interest to hotel management, including:\n",
    "\n",
    "* Calculating cancellation percentages for City and Resort hotels.\n",
    "* Identifying the most frequently ordered meal types.\n",
    "* Determining the number of returning guests.\n",
    "* Discovering the most booked room types.\n",
    "* Exploring correlations between room types and cancellations.\n",
    "\n",
    "\n",
    "Visualize these insights using three different types of visualizations covered in the practicals, such as:\n",
    "\n",
    "* Bar graphs\n",
    "* Pie charts\n",
    "* Line charts\n",
    "* Heatmaps"
   ]
  },
  {
   "cell_type": "markdown",
   "metadata": {},
   "source": [
    "## 2.1. Calculating cancellation percentages for City and Resort hotels."
   ]
  },
  {
   "cell_type": "code",
   "execution_count": null,
   "metadata": {
    "id": "CyBKkMrMQ088"
   },
   "outputs": [],
   "source": [
    "# <<< Your code here >>>"
   ]
  },
  {
   "cell_type": "markdown",
   "metadata": {},
   "source": [
    "## 2.2. Identifying the most frequently ordered meal types."
   ]
  },
  {
   "cell_type": "code",
   "execution_count": null,
   "metadata": {
    "id": "CyBKkMrMQ088"
   },
   "outputs": [],
   "source": [
    "# <<< Your code here >>>"
   ]
  },
  {
   "cell_type": "markdown",
   "metadata": {},
   "source": [
    "## 2.3. Determining the number of returning guests."
   ]
  },
  {
   "cell_type": "code",
   "execution_count": null,
   "metadata": {
    "id": "CyBKkMrMQ088"
   },
   "outputs": [],
   "source": [
    "# <<< Your code here >>>"
   ]
  },
  {
   "cell_type": "markdown",
   "metadata": {},
   "source": [
    "## 2.4. Discovering the most booked room types."
   ]
  },
  {
   "cell_type": "code",
   "execution_count": null,
   "metadata": {
    "id": "CyBKkMrMQ088"
   },
   "outputs": [],
   "source": [
    "# <<< Your code here >>>"
   ]
  },
  {
   "cell_type": "markdown",
   "metadata": {},
   "source": [
    "## 2.5. Exploring correlations between room types and cancellations."
   ]
  },
  {
   "cell_type": "code",
   "execution_count": null,
   "metadata": {
    "id": "CyBKkMrMQ088"
   },
   "outputs": [],
   "source": [
    "# <<< Your code here >>>"
   ]
  },
  {
   "cell_type": "markdown",
   "metadata": {
    "id": "o5SKAFmDM3z5"
   },
   "source": [
    "# 3. Feature Engineering (20%)\n",
    "\n",
    "\n",
    "---\n",
    "\n",
    "\n",
    "\n",
    "\n",
    "\n",
    "Apply various feature engineering techniques, covered in the lectures and practicals.\n",
    "\n",
    "Hint:\n",
    "* Binning\n",
    "* Encoding\n",
    "* Scaling\n",
    "* Feature selection"
   ]
  },
  {
   "cell_type": "markdown",
   "metadata": {},
   "source": [
    "## 3.1. Binning"
   ]
  },
  {
   "cell_type": "code",
   "execution_count": null,
   "metadata": {
    "id": "CyBKkMrMQ088"
   },
   "outputs": [],
   "source": [
    "# <<< Your code here >>>"
   ]
  },
  {
   "cell_type": "markdown",
   "metadata": {},
   "source": [
    "## 3.2. Encoding"
   ]
  },
  {
   "cell_type": "code",
   "execution_count": null,
   "metadata": {
    "id": "CyBKkMrMQ088"
   },
   "outputs": [],
   "source": [
    "# <<< Your code here >>>"
   ]
  },
  {
   "cell_type": "markdown",
   "metadata": {},
   "source": [
    "## 3.3. Scaling"
   ]
  },
  {
   "cell_type": "code",
   "execution_count": null,
   "metadata": {
    "id": "Gps2vXHySuBX"
   },
   "outputs": [],
   "source": [
    "# <<< Your code here >>>"
   ]
  },
  {
   "cell_type": "markdown",
   "metadata": {},
   "source": [
    "## 3.4. Feature selection"
   ]
  },
  {
   "cell_type": "code",
   "execution_count": null,
   "metadata": {
    "id": "CyBKkMrMQ088"
   },
   "outputs": [],
   "source": [
    "# <<< Your code here >>>"
   ]
  },
  {
   "cell_type": "markdown",
   "metadata": {
    "id": "P29DufVRM33h"
   },
   "source": [
    "# 4. Classifier Training (20%)\n",
    "\n",
    "\n",
    "---\n",
    "\n",
    "\n",
    "Utilise the sklearn Python library to train a ML model (e.g.decision tree classifier). Your process should start with splitting your dataset into input features (X) and a target feature (y). Next, divide the data into 70% training and 30% testing subsets. Train your model on the training dataset and evaluate using test dataset with appropriate metrics. Aim to achieve higher accuracy e.g. more than 70% accuracy using your model."
   ]
  },
  {
   "cell_type": "markdown",
   "metadata": {},
   "source": [
    "## 4.1. Data Splitting (5%)"
   ]
  },
  {
   "cell_type": "code",
   "execution_count": null,
   "metadata": {
    "id": "Gps2vXHySuBX"
   },
   "outputs": [],
   "source": [
    "# <<< Your code here >>>"
   ]
  },
  {
   "cell_type": "markdown",
   "metadata": {},
   "source": [
    "## 4.2. Model Training (10%)"
   ]
  },
  {
   "cell_type": "code",
   "execution_count": null,
   "metadata": {
    "id": "Gps2vXHySuBX"
   },
   "outputs": [],
   "source": [
    "# <<< Your code here >>>"
   ]
  },
  {
   "cell_type": "markdown",
   "metadata": {},
   "source": [
    "## 4.3. Model Evaluation (5%)"
   ]
  },
  {
   "cell_type": "code",
   "execution_count": null,
   "metadata": {
    "id": "tJS1HdmGSuY_"
   },
   "outputs": [],
   "source": [
    "# <<< Your code here >>>"
   ]
  },
  {
   "cell_type": "markdown",
   "metadata": {
    "id": "rBa3rsiSM365"
   },
   "source": [
    "# 5. Feature Importance (10%)\n",
    "\n",
    "\n",
    "---\n",
    "\n",
    "Assess the importance of features within your decision tree model. Provide commentary on the reliability of your model's results based on the feature importance scores."
   ]
  },
  {
   "cell_type": "code",
   "execution_count": null,
   "metadata": {
    "id": "y0P8oWvPUBX7"
   },
   "outputs": [],
   "source": [
    "# <<< Your code here >>>"
   ]
  }
 ],
 "metadata": {
  "colab": {
   "provenance": []
  },
  "kernelspec": {
   "display_name": "base",
   "language": "python",
   "name": "python3"
  },
  "language_info": {
   "codemirror_mode": {
    "name": "ipython",
    "version": 3
   },
   "file_extension": ".py",
   "mimetype": "text/x-python",
   "name": "python",
   "nbconvert_exporter": "python",
   "pygments_lexer": "ipython3",
   "version": "3.9.20"
  }
 },
 "nbformat": 4,
 "nbformat_minor": 1
}
